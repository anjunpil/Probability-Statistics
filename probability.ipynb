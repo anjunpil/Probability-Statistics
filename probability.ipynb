{
  "nbformat": 4,
  "nbformat_minor": 0,
  "metadata": {
    "colab": {
      "name": ".ipynb",
      "provenance": [],
      "collapsed_sections": [],
      "authorship_tag": "ABX9TyOxUOPLY6qS2Ya9JtRpvfic",
      "include_colab_link": true
    },
    "kernelspec": {
      "name": "python3",
      "display_name": "Python 3"
    }
  },
  "cells": [
    {
      "cell_type": "markdown",
      "metadata": {
        "id": "view-in-github",
        "colab_type": "text"
      },
      "source": [
        "<a href=\"https://colab.research.google.com/github/anjunpil/Probability-Statistics/blob/master/probability.ipynb\" target=\"_parent\"><img src=\"https://colab.research.google.com/assets/colab-badge.svg\" alt=\"Open In Colab\"/></a>"
      ]
    },
    {
      "cell_type": "code",
      "metadata": {
        "id": "H7GpNYCTi6TA",
        "colab_type": "code",
        "colab": {}
      },
      "source": [
        ""
      ],
      "execution_count": 0,
      "outputs": []
    },
    {
      "cell_type": "markdown",
      "metadata": {
        "id": "_s-jvdZ4jNdh",
        "colab_type": "text"
      },
      "source": [
        "## 확률과 랜덤 변수\n",
        "\n",
        "## 1. 확률\n",
        "\n",
        "- `표본 공간` : 확률 실험에서 일어날 가능성이 있는 모든 결과를 원소로 하는 집합\n",
        "  - 주사위의 표본 공간 [1,2,3,4,5,6]\n",
        "  - 원소가 유한개 -> `이산표본공간`\n",
        "  - 원소가 무한개 -> `연속표본공간`\n",
        "  - 표본 공간 `S`\n",
        "\n",
        "- `사건` : 표본 공간의 부분집합\n",
        "  - 사건 A가 발생할 확률 P{A}\n",
        "<br>\n",
        "\n",
        "#### 확률의 종류\n",
        "\n",
        "-  경험적 확률 , 통계적학률 , 고전적인 수학적 확률 , 공리에 바탕을 둔 수학적 확률\n",
        "- 강화학습은 공리에 바탕을 둔 수학적 확률로\n",
        "\n",
        "## 2. 랜덤 변수\n",
        "\n",
        "- `랜덤변수` : 표본 공간을 구성하는 각 원소(e)에 하나의 실수값을 대응시키는 함수\n",
        "- 랜덤변수의 정의역(domain)은 표본공간 , 치역(range)은 전체 실수 영역\n",
        "- 사건 A의 확률이 P{A}라면 랜덤 변수 X가 해당 실수 구간에 속할 확률\n",
        "- P{X∈I}는 P{A} 와 같다 -> `P{X∈I}=P{A}`\n",
        "- X가 이산 값을 취하면 ->`이산랜덤변수`\n",
        "- X가 연속 값을 취하면 ->`연속랜덤변수`\n",
        "\n",
        "\n",
        "## 3. 누적분포함수와 확률밀도함수\n",
        "\n",
        "- `누적분포함수` - 랜덤변수 X가 x(e에 대응하는 랜덤변수가 갖는 실수값) 보다 작은 값을 가질 확률  -> F_x(x) = P{X<=x}\n",
        "  - 누적분포함수(F_x(x))는 다음과 같으 성질을 갖는다\n",
        "  - 단조증가함수다 a>b 일때 F_x(a) >= F_x(b)\n",
        "  - +무한대일 경우 1로 수렴\n",
        "  - -무한대일 경우 0으로 수렴\n",
        "\n",
        "\n",
        "- `확률밀도함수` - 넓이 \n",
        " - px(x) >=0\n",
        " - 무한대적분? =1(추가정리)\n",
        " - 이산 랜덤변수 X에서는 확률질량함수 사용\n",
        " - 디랙델타함수 (δ) 를 이용해 표시 가능\n",
        "  - δ(x-a) : x=a,무한대 , x!=a , 0\n",
        "\n",
        "## 결합 확률 함수\n",
        "\n",
        "- 랜덤변수 X,Y의 결합 누적분포함수 Fxy(x,y)는\n",
        "음영영역의 확률\n",
        "\n",
        "0<=Fxy(x,y)<=1\n",
        "Fxy(무한,무한)=1\n",
        "Fxy(-무한,y)=Fxy(x,-무한)=0\n",
        "\n",
        "- 랜덤 변수 X,Y의 결합 확률밀도함수로부터 X만의 확률밀도함수를 구할 수 있는데, 이를 X의 한계밀도함수라고 함\n",
        "( 추가공부 해야함)\n",
        "\n",
        "## 조건부 확률 함수\n",
        "\n",
        "- `조건부확률함수` : 사건 B가 주어진 조건에서 A가 발생할 확률\n",
        "- P{A|B} = P{A,B}/P{B} \n",
        "- P{A∩B}\n",
        "\n",
        "## 독립 랜덤 변수\n",
        "\n",
        "- 두 사건이 P{A|B} = P{A}P{B} 일 경우 독립이라 한다\n",
        "\n",
        "\n",
        " "
      ]
    },
    {
      "cell_type": "code",
      "metadata": {
        "id": "DmHgzrR7jVhm",
        "colab_type": "code",
        "colab": {
          "base_uri": "https://localhost:8080/",
          "height": 35
        },
        "outputId": "85d3460c-ab5f-4fb8-e5d1-1b4a1fa32fa5"
      },
      "source": [
        "cnt=0\n",
        "cnt2=0\n",
        "for i in range(1,7):\n",
        "\n",
        "  if i%2!=0:\n",
        "    cnt+=1\n",
        "    if i<=4:\n",
        "      cnt2+=1\n",
        "\n",
        "cnt2/cnt"
      ],
      "execution_count": 5,
      "outputs": [
        {
          "output_type": "execute_result",
          "data": {
            "text/plain": [
              "0.6666666666666666"
            ]
          },
          "metadata": {
            "tags": []
          },
          "execution_count": 5
        }
      ]
    }
  ]
}