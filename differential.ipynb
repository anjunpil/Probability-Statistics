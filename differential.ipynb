{
  "nbformat": 4,
  "nbformat_minor": 0,
  "metadata": {
    "colab": {
      "name": "미분.ipynb",
      "provenance": [],
      "collapsed_sections": [],
      "authorship_tag": "ABX9TyOKNiF76wykO0Oor806Eo0P",
      "include_colab_link": true
    },
    "kernelspec": {
      "name": "python3",
      "display_name": "Python 3"
    }
  },
  "cells": [
    {
      "cell_type": "markdown",
      "metadata": {
        "id": "view-in-github",
        "colab_type": "text"
      },
      "source": [
        "<a href=\"https://colab.research.google.com/github/anjunpil/Probability-Statistics/blob/master/differential.ipynb\" target=\"_parent\"><img src=\"https://colab.research.google.com/assets/colab-badge.svg\" alt=\"Open In Colab\"/></a>"
      ]
    },
    {
      "cell_type": "code",
      "metadata": {
        "id": "H3fsEdURNcfZ",
        "colab_type": "code",
        "colab": {}
      },
      "source": [
        ""
      ],
      "execution_count": 0,
      "outputs": []
    },
    {
      "cell_type": "markdown",
      "metadata": {
        "id": "Qo28OZuVNrTk",
        "colab_type": "text"
      },
      "source": [
        "## 미분 \n",
        "\n",
        "- `미분` : 함수의 임의 점에서 접선의 기울기\n",
        " -  미분가능한 함수\n",
        " - 다항함수,로그함수,지수함수,삼각함수\n",
        " <br>\n",
        " -(x+h,f(x+h))  (x,f(x))\n",
        " - 위의 값이 존재하면 점 x에서 함수 f는 미분 가능하다 \n",
        " - 임의의 x에서 미분 값은 x에서의 접선 기울기\n",
        "\n",
        "\n",
        "- 만약 f`(c) = 0(1차미분), f``(c)<0(2차미분) 이면 f는 점 c에서 최대값을 갖고 반대면 최소값, f``(c) =0 이면 변곡점이다\n",
        "\n",
        "## 상수\n",
        "\n",
        "- `상수` : 그 값이 변하지 않는 불변량 (변수와 반대말)"
      ]
    }
  ]
}